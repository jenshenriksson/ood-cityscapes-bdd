{
 "cells": [
  {
   "cell_type": "markdown",
   "id": "55156879",
   "metadata": {},
   "source": [
    "## Convert GPS coords to State/Region\n",
    "This notebook matches images from the Semantic Segmentation dataset from BDD100K with the object detection part of the dataset. In short, the object detection dataset consist of 70'000 images, whereas the semantic segmentation dataset consists of 10'000 images. In BDD100K's dokumentation, they explicitly state that the semantic segmentation dataset is not a subset of the object detection dataset. \n",
    "\n",
    "Each sample in the Object detection dataset comes with additional information (such as GPS-coordinates) in a JSON-format. This information is not available for available for the semantic segmentation dataset. However, in this work **we run under the assumption that if the randomized file name matches in both dataset**, we can use the GPS-information from the object detection dataset as basis to the semantic segmentation dataset. We take the gps-coordinates and find from which state the image is located in by utilizing the Nominatim method from Geopys Geocoder. \n",
    "\n",
    "To run this notebook, you need to change the location to the different datasets at multiple locations."
   ]
  },
  {
   "cell_type": "code",
   "execution_count": 9,
   "id": "aa26764f",
   "metadata": {},
   "outputs": [],
   "source": [
    "# import module\n",
    "from geopy.geocoders import Nominatim\n",
    "import os \n",
    "from tqdm.notebook import tqdm"
   ]
  },
  {
   "cell_type": "code",
   "execution_count": 2,
   "id": "bc448278",
   "metadata": {},
   "outputs": [],
   "source": [
    "BDD10K_images_path = 'C:/Users/s23243/Downloads/bdd100k_images_10k/bdd100k/images/10k/train'\n",
    "BDD10K_images = os.listdir(BDD10K_images_path)\n",
    "img_ids = [img.split('-')[0] for img in BDD10K_images]"
   ]
  },
  {
   "cell_type": "code",
   "execution_count": 3,
   "id": "ab947a2a",
   "metadata": {},
   "outputs": [],
   "source": [
    "BDD100K_info_path_train = 'C:/Users/s23243/Downloads/bdd100k_info/bdd100k/info/100k/train'\n",
    "BDD100K_info_train = os.listdir(BDD100K_info_path_train)\n",
    "info_ids_train = [info.split('-')[0] for info in BDD100K_info_train]\n",
    "\n",
    "BDD100K_info_path_val = 'C:/Users/s23243/Downloads/bdd100k_info/bdd100k/info/100k/val'\n",
    "BDD100K_info_val = os.listdir(BDD100K_info_path_val)\n",
    "info_ids_val = [info.split('-')[0] for info in BDD100K_info_val]\n"
   ]
  },
  {
   "cell_type": "code",
   "execution_count": 4,
   "id": "5cbf73e2",
   "metadata": {},
   "outputs": [
    {
     "name": "stdout",
     "output_type": "stream",
     "text": [
      "7000\n",
      "70000\n",
      "10000\n"
     ]
    }
   ],
   "source": [
    "print(len(img_ids))\n",
    "print(len(info_ids_train))\n",
    "print(len(info_ids_val))"
   ]
  },
  {
   "cell_type": "code",
   "execution_count": null,
   "id": "123aa841",
   "metadata": {},
   "outputs": [],
   "source": []
  },
  {
   "cell_type": "code",
   "execution_count": 6,
   "id": "6b1f52b3",
   "metadata": {},
   "outputs": [
    {
     "data": {
      "application/vnd.jupyter.widget-view+json": {
       "model_id": "938dc51d4bfd470ba9c382e94da8e23e",
       "version_major": 2,
       "version_minor": 0
      },
      "text/plain": [
       "  0%|          | 0/7000 [00:00<?, ?it/s]"
      ]
     },
     "metadata": {},
     "output_type": "display_data"
    },
    {
     "name": "stdout",
     "output_type": "stream",
     "text": [
      "4097 454\n"
     ]
    }
   ],
   "source": [
    "found = 0 \n",
    "in_val = 0 \n",
    "\n",
    "for img in tqdm(img_ids): \n",
    "    if img in info_ids_train:\n",
    "        found += 1 \n",
    "    elif img in info_ids_val: \n",
    "        in_val += 1 \n",
    "print(found, in_val)"
   ]
  },
  {
   "cell_type": "code",
   "execution_count": 7,
   "id": "e680cbdc",
   "metadata": {},
   "outputs": [],
   "source": [
    "BDD10K_images_path_validation = 'C:/Users/s23243/Downloads/bdd100k_images_10k/bdd100k/images/10k/val'\n",
    "BDD10K_images_val = os.listdir(BDD10K_images_path_validation)\n",
    "img_ids_val = [img.split('-')[0] for img in BDD10K_images_val]"
   ]
  },
  {
   "cell_type": "code",
   "execution_count": 8,
   "id": "b612f159",
   "metadata": {},
   "outputs": [
    {
     "data": {
      "application/vnd.jupyter.widget-view+json": {
       "model_id": "030471aa20af4f98be7b86b2821fc3cb",
       "version_major": 2,
       "version_minor": 0
      },
      "text/plain": [
       "  0%|          | 0/1000 [00:00<?, ?it/s]"
      ]
     },
     "metadata": {},
     "output_type": "display_data"
    },
    {
     "name": "stdout",
     "output_type": "stream",
     "text": [
      "342 0\n"
     ]
    }
   ],
   "source": [
    "val_found = 0 \n",
    "val_in_val = 0 \n",
    "\n",
    "for img in tqdm(img_ids_val): \n",
    "    if img in info_ids_train:\n",
    "        val_found += 1 \n",
    "    elif img in info_ids_val: \n",
    "        val_in_val += 1 \n",
    "print(val_found, val_in_val)"
   ]
  },
  {
   "cell_type": "code",
   "execution_count": 5,
   "id": "113c1a82",
   "metadata": {},
   "outputs": [],
   "source": [
    "import json"
   ]
  },
  {
   "cell_type": "code",
   "execution_count": 6,
   "id": "3dbefa02",
   "metadata": {},
   "outputs": [
    {
     "ename": "FileNotFoundError",
     "evalue": "[Errno 2] No such file or directory: 'C:/Users/s23243/Downloads/bdd100k_labels_release/bdd100k/labels/bdd100k_labels_images_train.json'",
     "output_type": "error",
     "traceback": [
      "\u001b[1;31m---------------------------------------------------------------------------\u001b[0m",
      "\u001b[1;31mFileNotFoundError\u001b[0m                         Traceback (most recent call last)",
      "\u001b[1;32m<ipython-input-6-e17b46d89447>\u001b[0m in \u001b[0;36m<module>\u001b[1;34m\u001b[0m\n\u001b[1;32m----> 1\u001b[1;33m \u001b[0mf\u001b[0m \u001b[1;33m=\u001b[0m \u001b[0mopen\u001b[0m\u001b[1;33m(\u001b[0m\u001b[1;34m\"C:/Users/s23243/Downloads/bdd100k_labels_release/bdd100k/labels/bdd100k_labels_images_train.json\"\u001b[0m\u001b[1;33m)\u001b[0m\u001b[1;33m\u001b[0m\u001b[1;33m\u001b[0m\u001b[0m\n\u001b[0m\u001b[0;32m      2\u001b[0m \u001b[0mdata\u001b[0m \u001b[1;33m=\u001b[0m \u001b[0mjson\u001b[0m\u001b[1;33m.\u001b[0m\u001b[0mload\u001b[0m\u001b[1;33m(\u001b[0m\u001b[0mf\u001b[0m\u001b[1;33m)\u001b[0m\u001b[1;33m\u001b[0m\u001b[1;33m\u001b[0m\u001b[0m\n",
      "\u001b[1;31mFileNotFoundError\u001b[0m: [Errno 2] No such file or directory: 'C:/Users/s23243/Downloads/bdd100k_labels_release/bdd100k/labels/bdd100k_labels_images_train.json'"
     ]
    }
   ],
   "source": [
    "f = open(\"C:/Users/s23243/Downloads/bdd100k_labels_release/bdd100k/labels/bdd100k_labels_images_train.json\")\n",
    "data = json.load(f)"
   ]
  },
  {
   "cell_type": "code",
   "execution_count": 58,
   "id": "9a4372ae",
   "metadata": {},
   "outputs": [
    {
     "data": {
      "text/plain": [
       "{'category': 'traffic light',\n",
       " 'attributes': {'occluded': False,\n",
       "  'truncated': False,\n",
       "  'trafficLightColor': 'green'},\n",
       " 'manualShape': True,\n",
       " 'manualAttributes': True,\n",
       " 'box2d': {'x1': 1125.902264,\n",
       "  'y1': 133.184488,\n",
       "  'x2': 1156.978645,\n",
       "  'y2': 210.875445},\n",
       " 'id': 0}"
      ]
     },
     "execution_count": 58,
     "metadata": {},
     "output_type": "execute_result"
    }
   ],
   "source": [
    "data[0]['labels'][0]"
   ]
  },
  {
   "cell_type": "code",
   "execution_count": 30,
   "id": "6f5d174a",
   "metadata": {},
   "outputs": [],
   "source": [
    "import shutil\n",
    "from geopy.geocoders import Nominatim\n",
    "from IPython.display import clear_output\n",
    "import time \n",
    "\n",
    "geolocator = Nominatim(user_agent='bdd100kdata')\n",
    "\n",
    "BDD10K_images_path = 'C:/Users/s23243/Downloads/bdd100k_images_10k/bdd100k/images/10k/train'\n",
    "BDD10K_images = os.listdir(BDD10K_images_path)\n",
    "BDD10K_images = [b.replace('.jpg', '') for b in BDD10K_images]\n",
    "img_ids = [img.split('-')[0] for img in BDD10K_images]\n",
    "\n",
    "BDD10K_images_path_val = 'C:/Users/s23243/Downloads/bdd100k_images_10k/bdd100k/images/10k/val'\n",
    "BDD10K_images_val = os.listdir(BDD10K_images_path_val)\n",
    "BDD10K_images_val = [b.replace('.jpg', '') for b in BDD10K_images_val]\n",
    "img_ids_val = [img.split('-')[0] for img in BDD10K_images_val]\n",
    "\n",
    "BDD100K_images_path = 'C:/Users/s23243/Downloads/bdd100k_images_100k/bdd100k/images/100k/train'\n",
    "BDD100K_images = os.listdir(BDD100K_images_path)\n",
    "BDD100K_images = [b.replace('.jpg', '') for b in BDD100K_images]\n",
    "img_ids_100 = [img.split('-')[0] for img in BDD100K_images]\n",
    "\n",
    "BDD100K_info_path_train = 'C:/Users/s23243/Downloads/bdd100k_info/bdd100k/info/100k/train'\n",
    "BDD100K_info_train = os.listdir(BDD100K_info_path_train)\n",
    "BDD100K_info_train = [b.replace('.json', '') for b in BDD100K_info_train]\n",
    "info_ids_train = [info.split('-')[0] for info in BDD100K_info_train]\n",
    "\n",
    "\n",
    "BDD100K_images_path_val = 'C:/Users/s23243/Downloads/bdd100k_images_100k/bdd100k/images/100k/val'\n",
    "BDD100K_images_val = os.listdir(BDD100K_images_path_val)\n",
    "BDD100K_images_val = [b.replace('.jpg', '') for b in BDD100K_images_val]\n",
    "img_ids_100_val = [img.split('-')[0] for img in BDD100K_images_val]\n",
    "\n",
    "BDD100K_info_path_val = 'C:/Users/s23243/Downloads/bdd100k_info/bdd100k/info/100k/val'\n",
    "BDD100K_info_val = os.listdir(BDD100K_info_path_val)\n",
    "BDD100K_info_val = [b.replace('.json', '') for b in BDD100K_info_val]\n",
    "info_ids_val = [info.split('-')[0] for info in BDD100K_info_val]"
   ]
  },
  {
   "cell_type": "code",
   "execution_count": 56,
   "id": "a61a5e57",
   "metadata": {},
   "outputs": [],
   "source": [
    "if not os.path.isdir('bdd10k'):\n",
    "    os.mkdir('bdd10k')\n",
    "    os.mkdir('bdd10k/images')\n",
    "    os.mkdir('bdd10k/images/train')\n",
    "    os.mkdir('bdd10k/images/val')\n",
    "    \n",
    "    os.mkdir('bdd10k/labels')\n",
    "    os.mkdir('bdd10k/labels/train')\n",
    "    os.mkdir('bdd10k/labels/val')"
   ]
  },
  {
   "cell_type": "code",
   "execution_count": 59,
   "id": "3a2b5e37",
   "metadata": {},
   "outputs": [],
   "source": [
    "def convert_bdd10k_to_city_folders(\n",
    "        bdd10k_subset_folder, \n",
    "        bdd100k_image_folder,\n",
    "        bdd100k_json_info_folder, \n",
    "        bdd10k_label_folder, \n",
    "        save_folder\n",
    "    ): \n",
    "    BDD10K_images = os.listdir(bdd10k_subset_folder)\n",
    "    BDD10K_images = [b.replace('.jpg', '') for b in BDD10K_images]\n",
    "    \n",
    "    BDD100K_images = os.listdir(bdd100k_image_folder)\n",
    "    BDD100K_images = [b.replace('.jpg', '') for b in BDD100K_images]\n",
    "    \n",
    "    BDD100K_json_files = os.listdir(bdd100k_json_info_folder)\n",
    "    BDD100K_json_files = [b.replace('.json', '') for b in BDD100K_json_files]\n",
    "    \n",
    "    label_save_folder = save_folder.replace('images', 'labels')\n",
    "\n",
    "    ctr = 0 \n",
    "    # loop through all images in the Subset (10K subset)\n",
    "    for img_idx, img in enumerate(tqdm(BDD10K_images)): \n",
    "\n",
    "        # Check if the image is found in BDD100K set. You need to do this twice: once for Val and once for Train. \n",
    "        if img in BDD100K_images:\n",
    "            # Image is found in training folder, lets get the corresponding location info from JSON-file. \n",
    "            idx = BDD100K_json_files.index(img)\n",
    "            jd = json.load(open(os.path.join(bdd100k_json_info_folder, BDD100K_json_files[idx] + '.json')))\n",
    "            \n",
    "            \n",
    "            # Extract Longitude and Latitude coordinates\n",
    "            json_location = jd['locations']\n",
    "            if json_location == []: \n",
    "                continue \n",
    "            \n",
    "            json_location = json_location[0]  # First timestep, disregard rest. \n",
    "\n",
    "            latitude = str(json_location['latitude']) \n",
    "            longitude = str(json_location['longitude'])\n",
    "\n",
    "            # Convert Long/Lat to City Name \n",
    "            location = geolocator.reverse(latitude+\",\"+longitude)\n",
    "            city = location.raw['address'].get('state')                \n",
    "\n",
    "            # Copy image to new folder \n",
    "            city_path = os.path.join(save_folder, city)\n",
    "            if not os.path.isdir(city_path):\n",
    "                os.mkdir(city_path)\n",
    "            \n",
    "            shutil.copyfile(os.path.join(bdd10k_subset_folder, img + '.jpg') , os.path.join(city_path, img + '.jpg'))\n",
    "\n",
    "            # Copy label file to new folder \n",
    "            label_path = os.path.join(label_save_folder, city)\n",
    "            if not os.path.isdir(label_path): \n",
    "                os.mkdir(label_path)\n",
    "\n",
    "            label_name = os.path.join(label_path, img)\n",
    "\n",
    "            colormap_label_path = os.path.join(bdd10k_label_folder, img + '.png')\n",
    "            mask_label_path = colormap_label_path.replace('colormaps', 'masks')\n",
    "\n",
    "            shutil.copyfile(colormap_label_path, label_name + '-colormap.png')\n",
    "            shutil.copyfile(mask_label_path, label_name + '-mask.png')\n",
    "\n",
    "            time.sleep(0.1)  # Needed to not overload Neonatim. Dont know why. \n",
    "            ctr += 1 \n",
    "            #if ctr > 10:\n",
    "            #    break \n",
    "    print(\"Converted {} images\".format(str(ctr)))"
   ]
  },
  {
   "cell_type": "markdown",
   "id": "33354314",
   "metadata": {},
   "source": [
    "## Test the four different comibinations:\n",
    "Code below will match the four different combinations of Train and Validation sets for the two subsets."
   ]
  },
  {
   "cell_type": "code",
   "execution_count": 60,
   "id": "ea7e2430",
   "metadata": {},
   "outputs": [
    {
     "data": {
      "application/vnd.jupyter.widget-view+json": {
       "model_id": "693af795aff840c9a7724e65efbbb5b7",
       "version_major": 2,
       "version_minor": 0
      },
      "text/plain": [
       "  0%|          | 0/7000 [00:00<?, ?it/s]"
      ]
     },
     "metadata": {},
     "output_type": "display_data"
    },
    {
     "name": "stdout",
     "output_type": "stream",
     "text": [
      "Converted 2970 images\n"
     ]
    }
   ],
   "source": [
    "#      |\n",
    "#  TT  |  \n",
    "#------+-----\n",
    "#      |\n",
    "#      |\n",
    "\n",
    "BDD10K_image_train_folder = 'C:/Users/s23243/Downloads/bdd100k_images_10k/bdd100k/images/10k/train'\n",
    "BDD100K_image_train_folder = 'C:/Users/s23243/Downloads/bdd100k_images_100k/bdd100k/images/100k/train'\n",
    "BDD100K_json_files_train_folder = 'C:/Users/s23243/Downloads/bdd100k_info/bdd100k/info/100k/train'\n",
    "BDD10K_segm_train_label_folder = 'C:/Users/s23243/Downloads/bdd100k_sem_seg_labels_trainval/bdd100k/labels/sem_seg/colormaps/train'\n",
    "save_folder = './bdd10k/images/train'\n",
    "\n",
    "convert_bdd10k_to_city_folders(\n",
    "    bdd10k_subset_folder=BDD10K_image_train_folder,\n",
    "        bdd100k_image_folder=BDD100K_image_train_folder,\n",
    "        bdd100k_json_info_folder=BDD100K_json_files_train_folder, \n",
    "        bdd10k_label_folder=BDD10K_segm_train_label_folder,\n",
    "        save_folder=save_folder \n",
    ")"
   ]
  },
  {
   "cell_type": "code",
   "execution_count": 62,
   "id": "75d5e9d6",
   "metadata": {},
   "outputs": [
    {
     "data": {
      "application/vnd.jupyter.widget-view+json": {
       "model_id": "82a366e5af334e83a8d6198c6740481a",
       "version_major": 2,
       "version_minor": 0
      },
      "text/plain": [
       "  0%|          | 0/7000 [00:00<?, ?it/s]"
      ]
     },
     "metadata": {},
     "output_type": "display_data"
    },
    {
     "name": "stdout",
     "output_type": "stream",
     "text": [
      "Converted 454 images\n"
     ]
    }
   ],
   "source": [
    "#      |\n",
    "#      |  TV\n",
    "#------+-----\n",
    "#      |\n",
    "#      |\n",
    "\n",
    "BDD10K_image_train_folder = 'C:/Users/s23243/Downloads/bdd100k_images_10k/bdd100k/images/10k/train'\n",
    "BDD100K_image_val_folder = 'C:/Users/s23243/Downloads/bdd100k_images_100k/bdd100k/images/100k/val'\n",
    "BDD100K_json_files_val_folder = 'C:/Users/s23243/Downloads/bdd100k_info/bdd100k/info/100k/val'\n",
    "BDD10K_segm_train_label_folder = 'C:/Users/s23243/Downloads/bdd100k_sem_seg_labels_trainval/bdd100k/labels/sem_seg/colormaps/train'\n",
    "save_folder = './bdd10k/images/train'\n",
    "\n",
    "convert_bdd10k_to_city_folders(\n",
    "    bdd10k_subset_folder=BDD10K_image_train_folder,\n",
    "        bdd100k_image_folder=BDD100K_image_val_folder,\n",
    "        bdd100k_json_info_folder=BDD100K_json_files_val_folder, \n",
    "        bdd10k_label_folder=BDD10K_segm_train_label_folder,\n",
    "        save_folder=save_folder \n",
    ")"
   ]
  },
  {
   "cell_type": "code",
   "execution_count": 63,
   "id": "ddcd56ac",
   "metadata": {},
   "outputs": [
    {
     "data": {
      "application/vnd.jupyter.widget-view+json": {
       "model_id": "98612921bda9465ba1d9bd0954c54369",
       "version_major": 2,
       "version_minor": 0
      },
      "text/plain": [
       "  0%|          | 0/1000 [00:00<?, ?it/s]"
      ]
     },
     "metadata": {},
     "output_type": "display_data"
    },
    {
     "name": "stdout",
     "output_type": "stream",
     "text": [
      "Converted 0 images\n"
     ]
    }
   ],
   "source": [
    "#      |\n",
    "#      |  \n",
    "#------+-----\n",
    "#  VT  |\n",
    "#      |\n",
    "\n",
    "BDD10K_image_val_folder = 'C:/Users/s23243/Downloads/bdd100k_images_10k/bdd100k/images/10k/val'\n",
    "BDD100K_image_train_folder = 'C:/Users/s23243/Downloads/bdd100k_images_100k/bdd100k/images/100k/train'\n",
    "BDD100K_json_files_train_folder = 'C:/Users/s23243/Downloads/bdd100k_info/bdd100k/info/100k/train'\n",
    "BDD10K_segm_val_label_folder = 'C:/Users/s23243/Downloads/bdd100k_sem_seg_labels_trainval/bdd100k/labels/sem_seg/colormaps/val'\n",
    "save_folder = './bdd10k/labels/val'\n",
    "\n",
    "convert_bdd10k_to_city_folders(\n",
    "    bdd10k_subset_folder=BDD10K_image_val_folder,\n",
    "        bdd100k_image_folder=BDD100K_image_train_folder,\n",
    "        bdd100k_json_info_folder=BDD100K_json_files_train_folder, \n",
    "        bdd10k_label_folder=BDD10K_segm_val_label_folder,\n",
    "        save_folder=save_folder \n",
    ")"
   ]
  },
  {
   "cell_type": "code",
   "execution_count": 64,
   "id": "bf8fe2ed",
   "metadata": {},
   "outputs": [
    {
     "data": {
      "application/vnd.jupyter.widget-view+json": {
       "model_id": "7bc3ef28ea19416593a1df79ec56daf0",
       "version_major": 2,
       "version_minor": 0
      },
      "text/plain": [
       "  0%|          | 0/1000 [00:00<?, ?it/s]"
      ]
     },
     "metadata": {},
     "output_type": "display_data"
    },
    {
     "name": "stdout",
     "output_type": "stream",
     "text": [
      "Converted 0 images\n"
     ]
    }
   ],
   "source": [
    "#      |\n",
    "#      |  \n",
    "#------+-----\n",
    "#      |  VV\n",
    "#      |\n",
    "\n",
    "BDD10K_image_val_folder = 'C:/Users/s23243/Downloads/bdd100k_images_10k/bdd100k/images/10k/val'\n",
    "BDD100K_image_val_folder = 'C:/Users/s23243/Downloads/bdd100k_images_100k/bdd100k/images/100k/val'\n",
    "BDD100K_json_files_val_folder = 'C:/Users/s23243/Downloads/bdd100k_info/bdd100k/info/100k/val'\n",
    "BDD10K_segm_val_label_folder = 'C:/Users/s23243/Downloads/bdd100k_sem_seg_labels_trainval/bdd100k/labels/sem_seg/colormaps/val'\n",
    "save_folder = './bdd10k/labels/val'\n",
    "\n",
    "convert_bdd10k_to_city_folders(\n",
    "    bdd10k_subset_folder=BDD10K_image_val_folder,\n",
    "        bdd100k_image_folder=BDD100K_image_val_folder,\n",
    "        bdd100k_json_info_folder=BDD100K_json_files_val_folder, \n",
    "        bdd10k_label_folder=BDD10K_segm_val_label_folder,\n",
    "        save_folder=save_folder \n",
    ")"
   ]
  },
  {
   "cell_type": "code",
   "execution_count": 65,
   "id": "299042ee",
   "metadata": {},
   "outputs": [
    {
     "data": {
      "application/vnd.jupyter.widget-view+json": {
       "model_id": "f318b91f691a4c23865468473705d1a6",
       "version_major": 2,
       "version_minor": 0
      },
      "text/plain": [
       "0it [00:00, ?it/s]"
      ]
     },
     "metadata": {},
     "output_type": "display_data"
    },
    {
     "name": "stdout",
     "output_type": "stream",
     "text": [
      "California 491\n",
      "Connecticut 4\n",
      "Florida 1\n",
      "Georgia 2\n",
      "Nevada 1\n",
      "New Jersey 132\n",
      "New Mexico 2\n",
      "New York 2428\n",
      "Texas 1\n",
      "יהודה ושומרון 2\n",
      "מחוז הדרום 25\n",
      "מחוז המרכז 78\n",
      "מחוז הצפון 4\n",
      "מחוז חיפה 14\n",
      "מחוז ירושלים 28\n",
      "מחוז תל אביב 211\n",
      "total: 3424\n"
     ]
    }
   ],
   "source": [
    "# Lets see the final amount of images!\n",
    "rootdir = './bdd10k/images/train'\n",
    "total = 0\n",
    "for root, subdirs, files in tqdm(os.walk(rootdir)):\n",
    "    for s in subdirs: \n",
    "        amount = len(os.listdir(os.path.join(root,s)))\n",
    "        print(s, amount)\n",
    "        total += amount\n",
    "print('total: {}'.format(total))\n",
    "   "
   ]
  },
  {
   "cell_type": "code",
   "execution_count": 66,
   "id": "5d7ddabe",
   "metadata": {},
   "outputs": [
    {
     "data": {
      "application/vnd.jupyter.widget-view+json": {
       "model_id": "a24b6a31c44d483a836cfccacd78f720",
       "version_major": 2,
       "version_minor": 0
      },
      "text/plain": [
       "  0%|          | 0/1000 [00:00<?, ?it/s]"
      ]
     },
     "metadata": {},
     "output_type": "display_data"
    },
    {
     "name": "stdout",
     "output_type": "stream",
     "text": [
      "0\n"
     ]
    }
   ],
   "source": [
    "k10_img = os.listdir(BDD10K_image_val_folder)\n",
    "k100_img = os.listdir(BDD100K_image_train_folder)\n",
    "\n",
    "total = 0 \n",
    "for img in tqdm(k10_img): \n",
    "    if img in k100_img: \n",
    "        total += 1 \n",
    "print(total)"
   ]
  },
  {
   "cell_type": "code",
   "execution_count": null,
   "id": "40ebc719",
   "metadata": {},
   "outputs": [],
   "source": []
  },
  {
   "cell_type": "code",
   "execution_count": null,
   "id": "518ec788",
   "metadata": {},
   "outputs": [],
   "source": [
    "for root, subdirs, files in os.walk(rootdir):\n",
    "  for s in subdirs: \n",
    "    amount = len(os.listdir(os.path.join(root,s)))\n",
    "    print(s, amount)\n",
    "    total += amount\n",
    "\n",
    "print('total: {}'.format(total))"
   ]
  },
  {
   "cell_type": "code",
   "execution_count": null,
   "id": "b22da4d8",
   "metadata": {},
   "outputs": [],
   "source": []
  },
  {
   "cell_type": "code",
   "execution_count": null,
   "id": "2d7ba229",
   "metadata": {},
   "outputs": [],
   "source": []
  },
  {
   "cell_type": "code",
   "execution_count": null,
   "id": "003031db",
   "metadata": {},
   "outputs": [],
   "source": []
  },
  {
   "cell_type": "code",
   "execution_count": null,
   "id": "834e773a",
   "metadata": {},
   "outputs": [],
   "source": []
  },
  {
   "cell_type": "code",
   "execution_count": null,
   "id": "34e4833e",
   "metadata": {},
   "outputs": [],
   "source": []
  }
 ],
 "metadata": {
  "kernelspec": {
   "display_name": "Python 3 (ipykernel)",
   "language": "python",
   "name": "python3"
  },
  "language_info": {
   "codemirror_mode": {
    "name": "ipython",
    "version": 3
   },
   "file_extension": ".py",
   "mimetype": "text/x-python",
   "name": "python",
   "nbconvert_exporter": "python",
   "pygments_lexer": "ipython3",
   "version": "3.8.10"
  }
 },
 "nbformat": 4,
 "nbformat_minor": 5
}
